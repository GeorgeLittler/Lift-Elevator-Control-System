{
 "cells": [
  {
   "cell_type": "markdown",
   "metadata": {},
   "source": [
    "**Comparing Lift Scheduling Algorithms: SCAN, LOOK, and MYLIFT**"
   ]
  },
  {
   "cell_type": "markdown",
   "metadata": {},
   "source": [
    "Looking at the three algorithms; SCAN, LOOK, and MYLIFT, they all give clear efficiency score differences. Which are measured via multiple areas, such as average wait times. These results were given by using multiple input files with different scenarios, through this we can find clear limits to the performance of each algorithm. Looking at the charts and raw data we can create clear assumptions about each of the algorithms."
   ]
  },
  {
   "cell_type": "markdown",
   "metadata": {},
   "source": [
    "**What Affects Performance?**"
   ]
  },
  {
   "cell_type": "markdown",
   "metadata": {},
   "source": [
    "One of the most important performance measures is efficiency, which reflects how well an algorithm balances wait times, and the number of requests served. Across all test cases, MYLIFT consistently performs best.\n",
    "\n",
    "\n",
    "For Input 1, MYLIFT had an efficiency score of 0.175, beating LOOK (0.1489) and SCAN (0.0959). The pattern continued in Input 2, where MYLIFT led with 0.1911, followed by LOOK (0.1781) and SCAN (0.1004). Even with the largest dataset (Input 3), MYLIFT maintained an edge at 0.1626, compared to LOOK (0.1151) and SCAN (0.0794).\n",
    "\n",
    "\n",
    "So why does SCAN perform worse? The main issue is longer waiting times, especially as the number of requests grows. In Input 3, SCAN’s average wait time shot up to 2166 seconds, far higher than LOOK (1494 seconds) and MYLIFT (1058 seconds). The same trend appears in Input 2, where SCAN averaged 986 seconds, while LOOK and MYLIFT did much better at 556 and 518 seconds, respectively.\n",
    "\n",
    "\n",
    "Every algorithm manages to perform all of the requests, so the efficiency score is about how quickly and effectively each algorithm processes them. MYLIFT’s superior wait time management allows it to be the most efficient, even when handling the same number of requests as LOOK and SCAN.\n"
   ]
  },
  {
   "cell_type": "markdown",
   "metadata": {},
   "source": [
    "**Strengths and Weaknesses of Each Algorithm**"
   ]
  },
  {
   "cell_type": "markdown",
   "metadata": {},
   "source": [
    "•\tSCAN: This method follows a strict pattern, sweeping in one direction until it reaches the last requested floor before reversing. It’s predictable but very inefficient in busy scenarios, since it doesn’t adjust based on new requests. That’s why SCAN had a 2166-second wait time in Input 3—it simply can’t keep up when demand is high.\n",
    "\n",
    "\n",
    "•\tLOOK: A smarter version of SCAN, LOOK stops at the highest or lowest requested floor instead of traveling further than necessary. This makes it more efficient than SCAN, but it still struggles when requests appear in opposite directions. In Input 3, LOOK’s wait time (1494 seconds) was better than SCAN but still far behind MYLIFT.\n",
    "\n",
    "\n",
    "•\tMYLIFT: This algorithm is the most adaptive of the three. Instead of sticking to a rigid pattern, MYLIFT dynamically adjusts its movement based on real-time requests, making it much more responsive. That’s why it consistently had the shortest wait times—just 80 seconds in Input 1, 518 seconds in Input 2, and 1058 seconds in Input 3. However, since MYLIFT makes more complex decisions, it might require more computing power. In high-demand situations, it could need further optimisation.\n"
   ]
  },
  {
   "cell_type": "markdown",
   "metadata": {},
   "source": [
    "**Potential Improvements**"
   ]
  },
  {
   "cell_type": "markdown",
   "metadata": {},
   "source": [
    "To further enhance performance, several improvements could be considered:\n",
    "\n",
    "\n",
    "•\tFine-tuning MYLIFT to handle larger workloads with minimal additional computational overhead.\n",
    "\n",
    "\n",
    "•\tIncorporating real-time priority adjustments to allow all algorithms to better respond to urgent requests.\n",
    "\n",
    "\n",
    "•\tAnalysing additional performance metrics, such as energy efficiency or lift usage distribution, to provide a more comprehensive comparison.\n"
   ]
  }
 ],
 "metadata": {
  "language_info": {
   "name": "python"
  }
 },
 "nbformat": 4,
 "nbformat_minor": 2
}
